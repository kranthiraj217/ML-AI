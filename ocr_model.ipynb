{
 "cells": [
  {
   "cell_type": "code",
   "execution_count": 10,
   "metadata": {},
   "outputs": [
    {
     "name": "stdout",
     "output_type": "stream",
     "text": [
      "Epoch 1/10\n",
      "1500/1500 [==============================] - 4s 2ms/step - loss: 0.0383 - accuracy: 0.9880 - val_loss: 0.1030 - val_accuracy: 0.9766\n",
      "Epoch 2/10\n",
      "1500/1500 [==============================] - 3s 2ms/step - loss: 0.0371 - accuracy: 0.9879 - val_loss: 0.0992 - val_accuracy: 0.9791\n",
      "Epoch 3/10\n",
      "1500/1500 [==============================] - 3s 2ms/step - loss: 0.0387 - accuracy: 0.9873 - val_loss: 0.1048 - val_accuracy: 0.9757\n",
      "Epoch 4/10\n",
      "1500/1500 [==============================] - 3s 2ms/step - loss: 0.0360 - accuracy: 0.9888 - val_loss: 0.1120 - val_accuracy: 0.9770\n",
      "Epoch 5/10\n",
      "1500/1500 [==============================] - 4s 2ms/step - loss: 0.0358 - accuracy: 0.9881 - val_loss: 0.0975 - val_accuracy: 0.9788\n",
      "Epoch 6/10\n",
      "1500/1500 [==============================] - 3s 2ms/step - loss: 0.0379 - accuracy: 0.9881 - val_loss: 0.0987 - val_accuracy: 0.9783\n",
      "Epoch 7/10\n",
      "1500/1500 [==============================] - 3s 2ms/step - loss: 0.0349 - accuracy: 0.9889 - val_loss: 0.1001 - val_accuracy: 0.9781\n",
      "Epoch 8/10\n",
      "1500/1500 [==============================] - 3s 2ms/step - loss: 0.0361 - accuracy: 0.9880 - val_loss: 0.1020 - val_accuracy: 0.9776\n",
      "Epoch 9/10\n",
      "1500/1500 [==============================] - 3s 2ms/step - loss: 0.0335 - accuracy: 0.9897 - val_loss: 0.1082 - val_accuracy: 0.9783\n",
      "Epoch 10/10\n",
      "1500/1500 [==============================] - 3s 2ms/step - loss: 0.0312 - accuracy: 0.9896 - val_loss: 0.1027 - val_accuracy: 0.9772\n",
      "313/313 - 0s - loss: 0.0896 - accuracy: 0.9805 - 368ms/epoch - 1ms/step\n",
      "Test accuracy: 0.9804999828338623\n"
     ]
    }
   ],
   "source": [
    "# Load the data\n",
    "(X_train, y_train), (X_test, y_test) = tf.keras.datasets.mnist.load_data()\n",
    "\n",
    "# Preprocess the data\n",
    "X_train = X_train.reshape(-1, 28, 28, 1) / 255.0\n",
    "X_test = X_test.reshape(-1, 28, 28, 1) / 255.0\n",
    "\n",
    "# Train the model\n",
    "history = model.fit(X_train, y_train, epochs=10, validation_split=0.2)\n",
    "\n",
    "# Evaluate the model on the test set\n",
    "test_loss, test_acc = model.evaluate(X_test, y_test, verbose=2)\n",
    "print(f'Test accuracy: {test_acc}')\n"
   ]
  },
  {
   "cell_type": "code",
   "execution_count": 9,
   "metadata": {},
   "outputs": [
    {
     "name": "stdout",
     "output_type": "stream",
     "text": [
      "313/313 - 0s - loss: 0.0839 - accuracy: 0.9779 - 455ms/epoch - 1ms/step\n",
      "Test accuracy: 0.9779000282287598\n"
     ]
    }
   ],
   "source": [
    "import numpy as np\n",
    "from urllib.request import urlretrieve\n",
    "import gzip\n",
    "\n",
    "# Download the test images and labels\n",
    "urlretrieve('http://yann.lecun.com/exdb/mnist/t10k-images-idx3-ubyte.gz', 'test-images.gz')\n",
    "urlretrieve('http://yann.lecun.com/exdb/mnist/t10k-labels-idx1-ubyte.gz', 'test-labels.gz')\n",
    "\n",
    "# Load the test images and labels\n",
    "with gzip.open('test-images.gz', 'rb') as f:\n",
    "    test_images = np.frombuffer(f.read(), np.uint8, offset=16).reshape(-1, 28, 28, 1) / 255.0\n",
    "with gzip.open('test-labels.gz', 'rb') as f:\n",
    "    test_labels = np.frombuffer(f.read(), np.uint8, offset=8)\n",
    "\n",
    "# Evaluate the model on the test set\n",
    "test_loss, test_acc = model.evaluate(test_images, test_labels, verbose=2)\n",
    "print(f'Test accuracy: {test_acc}')\n",
    "\n"
   ]
  },
  {
   "cell_type": "code",
   "execution_count": null,
   "metadata": {},
   "outputs": [],
   "source": []
  }
 ],
 "metadata": {
  "kernelspec": {
   "display_name": "Python 3",
   "language": "python",
   "name": "python3"
  },
  "language_info": {
   "codemirror_mode": {
    "name": "ipython",
    "version": 3
   },
   "file_extension": ".py",
   "mimetype": "text/x-python",
   "name": "python",
   "nbconvert_exporter": "python",
   "pygments_lexer": "ipython3",
   "version": "3.8.5"
  }
 },
 "nbformat": 4,
 "nbformat_minor": 4
}
